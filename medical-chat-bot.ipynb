{
 "cells": [
  {
   "cell_type": "code",
   "execution_count": 1,
   "metadata": {
    "_cell_guid": "b1076dfc-b9ad-4769-8c92-a6c4dae69d19",
    "_uuid": "8f2839f25d086af736a60e9eeb907d3b93b6e0e5",
    "execution": {
     "iopub.execute_input": "2023-02-21T21:58:06.034450Z",
     "iopub.status.busy": "2023-02-21T21:58:06.034049Z",
     "iopub.status.idle": "2023-02-21T21:58:18.984267Z",
     "shell.execute_reply": "2023-02-21T21:58:18.983057Z",
     "shell.execute_reply.started": "2023-02-21T21:58:06.034417Z"
    }
   },
   "outputs": [],
   "source": [
    "!pip install tflearn -q"
   ]
  },
  {
   "cell_type": "code",
   "execution_count": 2,
   "metadata": {
    "execution": {
     "iopub.execute_input": "2023-02-21T21:58:18.988936Z",
     "iopub.status.busy": "2023-02-21T21:58:18.988616Z",
     "iopub.status.idle": "2023-02-21T21:58:26.850205Z",
     "shell.execute_reply": "2023-02-21T21:58:26.849229Z",
     "shell.execute_reply.started": "2023-02-21T21:58:18.988905Z"
    }
   },
   "outputs": [
    {
     "name": "stderr",
     "output_type": "stream",
     "text": [
      "[nltk_data] Downloading package punkt to\n",
      "[nltk_data]     C:\\Users\\KIIT\\AppData\\Roaming\\nltk_data...\n",
      "[nltk_data]   Package punkt is already up-to-date!\n"
     ]
    },
    {
     "name": "stdout",
     "output_type": "stream",
     "text": [
      "WARNING:tensorflow:From C:\\Users\\KIIT\\anaconda3\\lib\\site-packages\\tensorflow\\python\\compat\\v2_compat.py:107: disable_resource_variables (from tensorflow.python.ops.variable_scope) is deprecated and will be removed in a future version.\n",
      "Instructions for updating:\n",
      "non-resource variables are not supported in the long term\n",
      "curses is not supported on this machine (please install/reinstall curses for an optimal experience)\n"
     ]
    }
   ],
   "source": [
    "import nltk\n",
    "nltk.download('punkt')\n",
    "from nltk.stem.lancaster import LancasterStemmer  # stemmer reduces words to their root form\n",
    "stemmer = LancasterStemmer()\n",
    "import numpy as np\n",
    "import tflearn\n",
    "import tensorflow as tf\n",
    "import random\n",
    "import json\n",
    "import pickle"
   ]
  },
  {
   "cell_type": "code",
   "execution_count": 3,
   "metadata": {
    "execution": {
     "iopub.execute_input": "2023-02-21T21:58:26.852503Z",
     "iopub.status.busy": "2023-02-21T21:58:26.851826Z",
     "iopub.status.idle": "2023-02-21T21:58:26.865808Z",
     "shell.execute_reply": "2023-02-21T21:58:26.864813Z",
     "shell.execute_reply.started": "2023-02-21T21:58:26.852465Z"
    }
   },
   "outputs": [],
   "source": [
    "with open('intents.json') as f:\n",
    "    data = json.load(f)"
   ]
  },
  {
   "cell_type": "code",
   "execution_count": 4,
   "metadata": {
    "execution": {
     "iopub.execute_input": "2023-02-21T21:58:26.870341Z",
     "iopub.status.busy": "2023-02-21T21:58:26.870040Z",
     "iopub.status.idle": "2023-02-21T21:58:29.832670Z",
     "shell.execute_reply": "2023-02-21T21:58:29.831483Z",
     "shell.execute_reply.started": "2023-02-21T21:58:26.870292Z"
    }
   },
   "outputs": [
    {
     "name": "stdout",
     "output_type": "stream",
     "text": [
      "WARNING:tensorflow:From C:\\Users\\KIIT\\anaconda3\\lib\\site-packages\\tflearn\\initializations.py:164: calling TruncatedNormal.__init__ (from tensorflow.python.ops.init_ops) with dtype is deprecated and will be removed in a future version.\n",
      "Instructions for updating:\n",
      "Call initializer instance with the dtype argument instead of passing it to the constructor\n"
     ]
    }
   ],
   "source": [
    "words = []\n",
    "labels = []\n",
    "docs_x = []\n",
    "docs_y = []\n",
    "\n",
    "# words -> tokenized words, \n",
    "# labels -> unique tags (labels), \n",
    "# docs_x -> tokenized patterns\n",
    "# docs_y -> corresponding tags\n",
    "\n",
    "\n",
    "# Each \"intent\" is a dictionary containing patterns and a corresponding tag. \n",
    "#\n",
    "# For each pattern in an intent, the code tokenizes the pattern into words using nltk.word_tokenize(pattern), extends the words list with these tokenized words, and appends the tokenized words and the corresponding tag to docs_x and docs_y respectively.\n",
    "\n",
    "\n",
    "for intent in data[\"intents\"]:\n",
    "  for pattern in intent[\"patterns\"]:\n",
    "    wrds = nltk.word_tokenize(pattern)\n",
    "    words.extend(wrds)\n",
    "    docs_x.append(wrds)\n",
    "    docs_y.append(intent[\"tag\"])\n",
    "\n",
    "\n",
    "  if intent[\"tag\"] not in labels:\n",
    "    labels.append(intent[\"tag\"])  # labels -> contain unique tags only.\n",
    "\n",
    "words = [stemmer.stem(w.lower()) for w in words if  w not in \"?\"]\n",
    "words = sorted(list(set(words)))\n",
    "\n",
    "labels = sorted(labels)\n",
    "\n",
    "training = []\n",
    "output = []\n",
    "\n",
    "out_empty = [0 for _ in range(len(labels))]\n",
    "\n",
    "for x,doc in enumerate(docs_x):\n",
    "  bag = []\n",
    "  wrds = [stemmer.stem(w) for w in doc]\n",
    "\n",
    "  for w in words:\n",
    "    if w in wrds:\n",
    "      bag.append(1)\n",
    "    else:\n",
    "      bag.append(0)\n",
    "\n",
    "  output_row = out_empty[:]\n",
    "  output_row[labels.index(docs_y[x])] = 1\n",
    "\n",
    "  training.append(bag)\n",
    "  output.append(output_row)\n",
    "\n",
    "training = np.array(training)\n",
    "output = np.array(output)\n",
    "\n",
    "tf.compat.v1.reset_default_graph()\n",
    "\n",
    "net = tflearn.input_data(shape=[None, len(training[0])])\n",
    "net = tflearn.fully_connected(net, 8)\n",
    "net = tflearn.fully_connected(net, 8)\n",
    "net = tflearn.fully_connected(net, len(output[0]), activation = \"softmax\")\n",
    "net = tflearn.regression(net)\n",
    "\n",
    "model = tflearn.DNN(net)"
   ]
  },
  {
   "cell_type": "code",
   "execution_count": 5,
   "metadata": {
    "execution": {
     "iopub.execute_input": "2023-02-21T21:58:29.834634Z",
     "iopub.status.busy": "2023-02-21T21:58:29.834260Z",
     "iopub.status.idle": "2023-02-21T22:01:11.681086Z",
     "shell.execute_reply": "2023-02-21T22:01:11.680108Z",
     "shell.execute_reply.started": "2023-02-21T21:58:29.834598Z"
    }
   },
   "outputs": [
    {
     "name": "stdout",
     "output_type": "stream",
     "text": [
      "Training Step: 23999  | total loss: \u001b[1m\u001b[32m0.00004\u001b[0m\u001b[0m | time: 0.076s\n",
      "| Adam | epoch: 1000 | loss: 0.00004 - acc: 1.0000 -- iter: 184/188\n",
      "Training Step: 24000  | total loss: \u001b[1m\u001b[32m0.00004\u001b[0m\u001b[0m | time: 0.078s\n",
      "| Adam | epoch: 1000 | loss: 0.00004 - acc: 1.0000 -- iter: 188/188\n",
      "--\n",
      "INFO:tensorflow:C:\\Users\\KIIT\\Project\\Healthcare Bot\\model.tflearn is not in all_model_checkpoint_paths. Manually adding it.\n"
     ]
    }
   ],
   "source": [
    "model.fit(training, output, n_epoch = 1000, batch_size=8, show_metric=True)\n",
    "model.save(\"model.tflearn\")"
   ]
  },
  {
   "cell_type": "code",
   "execution_count": 6,
   "metadata": {
    "execution": {
     "iopub.execute_input": "2023-02-21T22:01:11.687932Z",
     "iopub.status.busy": "2023-02-21T22:01:11.685799Z",
     "iopub.status.idle": "2023-02-21T22:01:11.702233Z",
     "shell.execute_reply": "2023-02-21T22:01:11.701335Z",
     "shell.execute_reply.started": "2023-02-21T22:01:11.687894Z"
    }
   },
   "outputs": [],
   "source": [
    "def bag_of_words(s, words):\n",
    "  bag = [0 for _ in range(len(words))]\n",
    "\n",
    "  s_words = nltk.word_tokenize(s)\n",
    "  s_words = [stemmer.stem(word.lower()) for word in s_words]\n",
    "\n",
    "  for se in s_words:\n",
    "    for i, w in enumerate(words):\n",
    "      if w == se:\n",
    "        bag[i] = 1\n",
    "\n",
    "  return np.array(bag)\n",
    "\n",
    "def chat():\n",
    "  print(\"\\033[1;31m Start talking with the bot!, Type quit when you want to quit\")\n",
    "  while True:\n",
    "    inp = input(\"\\033[1;31m You: \")\n",
    "    if inp.lower() == \"quit\":\n",
    "      break\n",
    "\n",
    "    results = model.predict([bag_of_words(inp, words)])\n",
    "    results_index = np.argmax(results)\n",
    "    tag = labels[results_index]\n",
    "\n",
    "    for tg in data[\"intents\"]:\n",
    "      \n",
    "      if tg['tag'] == tag:\n",
    "        \n",
    "        responses = tg['responses']\n",
    "\n",
    "        response_list = nltk.sent_tokenize(str(responses[0]))\n",
    "        colors = [31, 32, 33, 34, 35]\n",
    "\n",
    "        for i in range(len(response_list)):\n",
    "            color_index = i % len(colors)\n",
    "            print(f'\\033[1;{colors[color_index]}m {response_list[i]:<12s}\\n')"
   ]
  },
  {
   "cell_type": "code",
   "execution_count": null,
   "metadata": {
    "execution": {
     "iopub.execute_input": "2023-02-21T22:07:03.523394Z",
     "iopub.status.busy": "2023-02-21T22:07:03.522437Z",
     "iopub.status.idle": "2023-02-21T22:08:00.247238Z",
     "shell.execute_reply": "2023-02-21T22:08:00.246092Z",
     "shell.execute_reply.started": "2023-02-21T22:07:03.523347Z"
    }
   },
   "outputs": [
    {
     "name": "stdout",
     "output_type": "stream",
     "text": [
      "\u001b[1;31m Start talking with the bot!, Type quit when you want to quit\n",
      " You: I am having runny nose\n",
      "\u001b[1;31m 1)Keeping hydrated is absolutely vital to help 'flush' out the cold, as well as to break down congestion and keep your throat lubricated.\n",
      "\n",
      "\u001b[1;32m 2)Vitamin C is extremely helpful when fighting infection, so at the first sign of a cold be sure to increase your intake by eating plenty of berries, citrus fruits, papayas, broccoli and red peppers which will help keep you protected.\n",
      "\n",
      "\u001b[1;33m 3)When it comes to combating a cold,Vitamin D is essential in helping to regulate immune response.\n",
      "\n"
     ]
    }
   ],
   "source": [
    "chat()"
   ]
  },
  {
   "cell_type": "code",
   "execution_count": null,
   "metadata": {},
   "outputs": [],
   "source": []
  }
 ],
 "metadata": {
  "kernelspec": {
   "display_name": "Python 3 (ipykernel)",
   "language": "python",
   "name": "python3"
  },
  "language_info": {
   "codemirror_mode": {
    "name": "ipython",
    "version": 3
   },
   "file_extension": ".py",
   "mimetype": "text/x-python",
   "name": "python",
   "nbconvert_exporter": "python",
   "pygments_lexer": "ipython3",
   "version": "3.9.13"
  }
 },
 "nbformat": 4,
 "nbformat_minor": 4
}
